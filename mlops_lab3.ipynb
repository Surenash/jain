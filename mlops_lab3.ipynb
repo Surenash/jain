{
  "nbformat": 4,
  "nbformat_minor": 0,
  "metadata": {
    "colab": {
      "provenance": [],
      "authorship_tag": "ABX9TyP9W+rOgxmitLmjCKpbiWz5",
      "include_colab_link": true
    },
    "kernelspec": {
      "name": "python3",
      "display_name": "Python 3"
    },
    "language_info": {
      "name": "python"
    }
  },
  "cells": [
    {
      "cell_type": "markdown",
      "metadata": {
        "id": "view-in-github",
        "colab_type": "text"
      },
      "source": [
        "<a href=\"https://colab.research.google.com/github/Surenash/jain/blob/main/mlops_lab3.ipynb\" target=\"_parent\"><img src=\"https://colab.research.google.com/assets/colab-badge.svg\" alt=\"Open In Colab\"/></a>"
      ]
    },
    {
      "cell_type": "code",
      "execution_count": 2,
      "metadata": {
        "colab": {
          "base_uri": "https://localhost:8080/"
        },
        "id": "ZgD5bsbCGeE9",
        "outputId": "22f6b72b-33e0-4bbd-f191-0e77db3f65cd"
      },
      "outputs": [
        {
          "output_type": "stream",
          "name": "stdout",
          "text": [
            "📊 Classification Report:\n",
            "\n",
            "              precision    recall  f1-score   support\n",
            "\n",
            "           0       1.00      1.00      1.00        19\n",
            "           1       1.00      1.00      1.00        13\n",
            "           2       1.00      1.00      1.00        13\n",
            "\n",
            "    accuracy                           1.00        45\n",
            "   macro avg       1.00      1.00      1.00        45\n",
            "weighted avg       1.00      1.00      1.00        45\n",
            "\n"
          ]
        }
      ],
      "source": [
        "# Step 1: Import Required Libraries\n",
        "\n",
        "from sklearn.datasets import load_iris\n",
        "from sklearn.model_selection import train_test_split\n",
        "from sklearn.preprocessing import StandardScaler\n",
        "from sklearn.tree import DecisionTreeClassifier\n",
        "from sklearn.metrics import classification_report\n",
        "\n",
        "# Step 2: Data Loader Class\n",
        "\n",
        "class DataLoader:\n",
        "    def __init__(self):\n",
        "        self.X, self.y = load_iris(return_X_y=True)\n",
        "    def split(self, test_size=0.3, random_state=42):\n",
        "        return train_test_split(self.X, self.y, test_size=test_size,\n",
        "random_state=random_state)\n",
        "\n",
        "# Step 3: Preprocessor Class\n",
        "\n",
        "class Preprocessor:\n",
        "    def __init__(self):\n",
        "        self.scaler = StandardScaler()\n",
        "    def fit_transform(self, X_train):\n",
        "        return self.scaler.fit_transform(X_train)\n",
        "    def transform(self, X_test):\n",
        "        return self.scaler.transform(X_test)\n",
        "\n",
        "# Step 4: ML Model Class\n",
        "\n",
        "class MLModel:\n",
        "    def __init__(self):\n",
        "        self.model = DecisionTreeClassifier()\n",
        "    def train(self, X_train, y_train):\n",
        "        self.model.fit(X_train, y_train)\n",
        "    def predict(self, X_test):\n",
        "        return self.model.predict(X_test)\n",
        "\n",
        "# Step 5: Evaluator Class\n",
        "\n",
        "class Evaluator:\n",
        "    def __init__(self, y_true, y_pred):\n",
        "        self.y_true = y_true\n",
        "        self.y_pred = y_pred\n",
        "\n",
        "    def report(self):\n",
        "        print(\"Classification Report:\\n\")\n",
        "        print(classification_report(self.y_true, self.y_pred))\n",
        "\n",
        "# Step 6: Main ML Application Class\n",
        "\n",
        "class MLApplication:\n",
        "    def __init__(self):\n",
        "        self.loader = DataLoader()\n",
        "        self.preprocessor = Preprocessor()\n",
        "        self.model = MLModel()\n",
        "    def run(self):\n",
        "\n",
        "        # Load and split data\n",
        "\n",
        "        X_train, X_test, y_train, y_test = self.loader.split()\n",
        "\n",
        "        # Preprocess data\n",
        "\n",
        "        X_train_scaled = self.preprocessor.fit_transform(X_train)\n",
        "        X_test_scaled = self.preprocessor.transform(X_test)\n",
        "\n",
        "        # Train model\n",
        "\n",
        "        self.model.train(X_train_scaled, y_train)\n",
        "        y_pred = self.model.predict(X_test_scaled)\n",
        "\n",
        "        # Evaluate\n",
        "\n",
        "        evaluator = Evaluator(y_test, y_pred)\n",
        "        evaluator.report()\n",
        "\n",
        "# Step 7: Execute the Pipeline\n",
        "\n",
        "app = MLApplication()\n",
        "app.run()"
      ]
    },
    {
      "cell_type": "markdown",
      "metadata": {
        "id": "831e9098"
      },
      "source": [
        "# Task\n",
        "Connect the current Colab notebook to GitHub and upload it to the user's repository."
      ]
    },
    {
      "cell_type": "markdown",
      "metadata": {
        "id": "4fdcc4cf"
      },
      "source": [
        "## Connect to github\n",
        "\n",
        "### Subtask:\n",
        "Connect your Colab notebook to your GitHub account.\n"
      ]
    },
    {
      "cell_type": "code",
      "source": [],
      "metadata": {
        "id": "SeF8kDt0KBZN"
      },
      "execution_count": null,
      "outputs": []
    },
    {
      "cell_type": "markdown",
      "metadata": {
        "id": "a480d4aa"
      },
      "source": [
        "## Save a copy on github\n",
        "\n",
        "### Subtask:\n",
        "Save a copy of the notebook to your GitHub repository.\n"
      ]
    },
    {
      "cell_type": "markdown",
      "metadata": {
        "id": "e7b9d917"
      },
      "source": [
        "## Verify upload\n",
        "\n",
        "### Subtask:\n",
        "Go to your GitHub repository to verify that the notebook has been uploaded successfully.\n"
      ]
    },
    {
      "cell_type": "markdown",
      "metadata": {
        "id": "9fd789c8"
      },
      "source": [
        "## Summary:\n",
        "\n",
        "### Data Analysis Key Findings\n",
        "\n",
        "* The task involved connecting the Colab notebook to GitHub and uploading it.\n",
        "* The process required interacting with the Colab notebook's user interface through menus and dialog boxes.\n",
        "* The current execution environment is limited to executing code within code blocks and cannot simulate or control UI interactions necessary for this task.\n",
        "\n",
        "### Insights or Next Steps\n",
        "\n",
        "* The user needs to manually perform the steps within the Colab notebook's user interface to connect to GitHub and save a copy.\n",
        "* The user should then manually verify the upload on their GitHub repository.\n"
      ]
    }
  ]
}